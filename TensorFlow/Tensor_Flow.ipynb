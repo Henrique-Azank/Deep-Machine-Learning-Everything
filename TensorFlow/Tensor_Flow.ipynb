{
 "cells": [
  {
   "cell_type": "markdown",
   "metadata": {},
   "source": [
    "# Notebook - Crash Course em **Deep Learning com Python**\n",
    "\n",
    " - **<h3> Introdução: ao Tensorflow </h3>**\n",
    " ----\n",
    "\n",
    "Tensorflow pode ser utilizado para desenvolver, treinar e fazer predições em modelos que recentemente expandem as fronteiras em vários campos da ciência. Esses algoritmos podem ser acessados de maneira \"High-level API\", onde são implementados da maaneira mais prática possível, ou por \"Low-Level-API\", que permite desenvolver rotinas mais bem elaboradas e \"não usuais\". \n",
    "\n",
    "> Tensorflow é uma biblioteca pata computação baseada em gráficos, desenvolvida pelo *\"Google Brain Team\"*. O desenvolvimento de modelos é centrado nos APIs de alto nível **Keras e Estimators**. \n",
    "\n",
    "O que é um **Tensor** ? Trata-se de uma [generalização de vetores e matrizes](https://pt.wikipedia.org/wiki/Tensor), constituindo um conjunto de números com uma fórma especificada. "
   ]
  },
  {
   "cell_type": "code",
   "execution_count": 6,
   "metadata": {},
   "outputs": [
    {
     "name": "stdout",
     "output_type": "stream",
     "text": [
      "[[1. 1.]\n",
      " [1. 1.]]\n"
     ]
    }
   ],
   "source": [
    "import tensorflow as tf\n",
    "\n",
    "# Definindo Tensores apenas com o número 1: \n",
    "# similar a ones() do MATLAB\n",
    "\n",
    "# Definindo Tensores\n",
    "Tensor_Sem_Dim = tf.ones((1,))\n",
    "\n",
    "# Tensor 1D\n",
    "Tensor_1D = tf.ones((2,))\n",
    "\n",
    "# Tensor 2D\n",
    "Tensor_2D = tf.ones((2,2))\n",
    "\n",
    "# Tensor 3D\n",
    "Tensor_3D = tf.ones((2,2,2))\n",
    "\n",
    "# Print usando numpy:\n",
    "print(Tensor_2D.numpy())\n"
   ]
  },
  {
   "cell_type": "code",
   "execution_count": 10,
   "metadata": {},
   "outputs": [
    {
     "name": "stdout",
     "output_type": "stream",
     "text": [
      "tf.Tensor(\n",
      "[[3 3 3]\n",
      " [3 3 3]], shape=(2, 3), dtype=int32)\n",
      "\n",
      "\n",
      "tf.Tensor(\n",
      "[[0 1 2]\n",
      " [3 4 5]], shape=(2, 3), dtype=int32)\n"
     ]
    }
   ],
   "source": [
    "# Para definirmos uma constante em TensorFlow: \n",
    "\n",
    "from tensorflow import constant \n",
    "import numpy as np\n",
    "\n",
    "Const = constant(3, shape = [2,3])\n",
    "print(Const)\n",
    "\n",
    "print(\"\\n\")\n",
    "\n",
    "Const = constant([np.arange(6)], shape = [2,3])\n",
    "print(Const)\n"
   ]
  },
  {
   "cell_type": "code",
   "execution_count": 17,
   "metadata": {},
   "outputs": [
    {
     "name": "stdout",
     "output_type": "stream",
     "text": [
      "<tf.Variable 'Variable:0' shape=(1, 9) dtype=float32, numpy=array([[1., 2., 3., 4., 5., 6., 7., 8., 9.]], dtype=float32)>\n",
      "tf.Tensor([[ 2.  4.  6.  8. 10. 12. 14. 16. 18.]], shape=(1, 9), dtype=float32)\n"
     ]
    }
   ],
   "source": [
    "# Defininfo Variáveis em TensorFlow: \n",
    "\n",
    "# Variáveis\n",
    "Var_1 = tf.Variable([np.arange(1,10)], dtype=tf.float32)   # Podemos especificar os tipos de classe que populam\n",
    "Var_2 = tf.Variable([np.arange(1,10)], dtype=tf.int16)     # as variáveis de TF \n",
    "\n",
    "# Constantes\n",
    "Const_1 = tf.constant(2, tf.float32)                       # Constante\n",
    "\n",
    "# Mupltiplicação (Duas Formas)\n",
    "Mult = tf.multiply(Var_1,Const_1)                          # Método de TF\n",
    "Mult_2 = Var_1*Const_1                                     # Notação Convencional de Python\n",
    "\n",
    "# Resultados\n",
    "print(Var_1)\n",
    "print(Mult)\n"
   ]
  },
  {
   "cell_type": "markdown",
   "metadata": {},
   "source": [
    "***NOTA:*** \n",
    "\n",
    "Quando construindo matrizes e vetores, a sintaxe para sua construção é dada por **[linha1 , linha2, linha 3 , ...]** onde linha representa outra lista com os valores desejados. Para construirmos uma matriz 3x3 usamos [ [ 1,2,3 ] , [ 4,5,6 ], [ 7,8,9 ]], que resulta em \n",
    "\n",
    "1  &nbsp; 2  &nbsp; 3\n",
    "\n",
    "4  &nbsp; 5  &nbsp; 6\n",
    "\n",
    "7  &nbsp; 8  &nbsp; 9\n",
    "\n",
    "Geralmente quando usamos funções de numpy ou TF, devemos especificar se gostaremos de realizar a operação em linhas ou colunas. De maneira prática, **axis = 0 refere-se a columnasm, enquanto axis = 1 refere-se a linhas**."
   ]
  },
  {
   "cell_type": "code",
   "execution_count": 27,
   "metadata": {},
   "outputs": [
    {
     "name": "stdout",
     "output_type": "stream",
     "text": [
      "Adição de Vetores\n",
      "tf.Tensor([4 6], shape=(2,), dtype=int32)\n",
      "\n",
      "\n",
      "Adição de Matrizes\n",
      "tf.Tensor(\n",
      "[[4 6]\n",
      " [2 4]], shape=(2, 2), dtype=int32)\n"
     ]
    }
   ],
   "source": [
    "# Personalizando suas constantes e aplicando soma: \n",
    "# TF.ADD()\n",
    "\n",
    "# Constantes com 1 Dimensão: \n",
    "A_1D = constant([1,2])\n",
    "B_1D = constant([3,4])\n",
    "\n",
    "# Resultado é adição de elemento por elemento: \n",
    "# Mesma coisa que adicionar vetores\n",
    "print('Adição de Vetores')\n",
    "print(tf.add(A_1D,B_1D))\n",
    "\n",
    "# Pulando uma linha\n",
    "print(\"\\n\")\n",
    "\n",
    "# Constantes com 2 Dimensões: \n",
    "A_2D = constant([[1,2],[1,2]])\n",
    "B_2D = constant([[3,4],[1,2]])\n",
    "\n",
    "# Resultado é adição de elemento por elemento: \n",
    "# Mesma coisa que adicionar matrizes\n",
    "print('Adição de Matrizes')\n",
    "print(tf.add(A_2D,B_2D))\n",
    "\n"
   ]
  },
  {
   "cell_type": "code",
   "execution_count": 28,
   "metadata": {},
   "outputs": [
    {
     "name": "stdout",
     "output_type": "stream",
     "text": [
      "Multiplicação de ELEMENTOS de Vetores\n",
      "tf.Tensor([3 8], shape=(2,), dtype=int32)\n",
      "\n",
      "\n",
      "Multiplicação de ELEMENTOS de Matrizes\n",
      "tf.Tensor(\n",
      "[[3 8]\n",
      " [1 4]], shape=(2, 2), dtype=int32)\n"
     ]
    }
   ],
   "source": [
    "# Personalizando suas constantes e aplicando multiplicação\n",
    "# POR ELEMENTO: TF.MULTIPLY\n",
    "\n",
    "# Constantes com 1 Dimensão: \n",
    "A_1D = constant([1,2])\n",
    "B_1D = constant([3,4])\n",
    "\n",
    "# Resultado é MULTIPLICAÇÂO de elemento por elemento: \n",
    "# Não é a mesma coisa que MULTIPLICAR VETORES\n",
    "print('Multiplicação de ELEMENTOS de Vetores')\n",
    "print(tf.multiply(A_1D,B_1D))\n",
    "\n",
    "# Pulando uma linha\n",
    "print(\"\\n\")\n",
    "\n",
    "# Constantes com 2 Dimensões: \n",
    "A_2D = constant([[1,2],[1,2]])\n",
    "B_2D = constant([[3,4],[1,2]])\n",
    "\n",
    "# Resultado é MULTIPLICAÇÂO de elemento por elemento: \n",
    "# Não é a mesma coisa que MULTIPLICAR MATRIZES\n",
    "print('Multiplicação de ELEMENTOS de Matrizes')\n",
    "print(tf.multiply(A_2D,B_2D))"
   ]
  },
  {
   "cell_type": "code",
   "execution_count": 34,
   "metadata": {},
   "outputs": [
    {
     "name": "stdout",
     "output_type": "stream",
     "text": [
      "Multiplicação de Matrizes 2x2\n",
      "tf.Tensor(\n",
      "[[5 8]\n",
      " [5 8]], shape=(2, 2), dtype=int32)\n"
     ]
    }
   ],
   "source": [
    "# Personalizando suas constantes e aplicando multiplicação:\n",
    "# TF.MATMUL\n",
    "\n",
    "# Constantes com 2 Dimensões: \n",
    "A_2D = constant([[1,2],[1,2]])\n",
    "B_2D = constant([[3,4],[1,2]])\n",
    "\n",
    "# Resultado é MULTIPLICAÇÂO de MATRIZES\n",
    "print('Multiplicação de Matrizes 2x2')\n",
    "print(tf.matmul(A_2D,B_2D))"
   ]
  },
  {
   "cell_type": "markdown",
   "metadata": {},
   "source": [
    "***<h3> - Opções Avançadas: </h3>***\n",
    "\n",
    "Gradiente dos tensores; reestruturando a forma dos tensores e; gerando tensores aleatórios \n",
    "1. **gradient()**: Computa a *\"inclinação\"* de uma função em um ponto (ótimo para achar **ótímos**)\n",
    "2. **reshape()**: Redimensiona os dados de um tensor\n",
    "3. **random()**: Popula um tensor com dados advindos de uma distribuição conhecida"
   ]
  },
  {
   "cell_type": "code",
   "execution_count": 38,
   "metadata": {},
   "outputs": [
    {
     "name": "stdout",
     "output_type": "stream",
     "text": [
      "-10.0\n"
     ]
    }
   ],
   "source": [
    "# Obtendo o máximo e mínimo de funções usando Tensorflow: \n",
    "# Obtendo o Gradiente de funções \n",
    "\n",
    "# Definindo a variável independente: \n",
    "x = tf.Variable(-5.0)                  # Variável automaticamente observada caso usada dentro\n",
    "                                       # de um context manager com GradientTape()\n",
    "\n",
    "# Definindo nossa variável independente dentro\n",
    "# de uma chamada de GradientTape(): \n",
    "\n",
    "with tf.GradientTape() as tape:        # Context Manager \"with\"\n",
    "    tape.watch(x)     \n",
    "    y = tf.multiply(x,x)\n",
    "\n",
    "# Avaliando o gradiente:\n",
    "gradiente = tape.gradient(y,x)\n",
    "print(gradiente.numpy())\n"
   ]
  },
  {
   "cell_type": "code",
   "execution_count": 43,
   "metadata": {},
   "outputs": [
    {
     "name": "stdout",
     "output_type": "stream",
     "text": [
      "[[ 44 231]\n",
      " [121 188]]\n",
      "\n",
      "\n",
      "[[ 44]\n",
      " [231]\n",
      " [121]\n",
      " [188]]\n"
     ]
    }
   ],
   "source": [
    "# Como realizar o Reshapping de tensores: \n",
    "\n",
    "# Criando um tensor aleatório de uma distribuição uniforme\n",
    "# 2 Dimensões: Matriz 2,2 \n",
    "Obj_22 = tf.random.uniform([2,2], maxval=255, dtype='int32')  # Valor máximo da distribuição: 255    \n",
    "print(Obj_22.numpy())\n",
    "\n",
    "print('\\n') # Pulando uma linha\n",
    "\n",
    "# Reestruturando os dados para um tensor \n",
    "# 2 Dimensões: Matriz 4,1\n",
    "Obj_41 = tf.reshape(Obj_22,[4,1])                             # Especificando a Dimensão\n",
    "print(Obj_41.numpy())\n"
   ]
  },
  {
   "cell_type": "markdown",
   "metadata": {},
   "source": [
    "- ***<h3> Importando dados para uso em TensorFlow:</h3>***\n",
    "\n",
    "Dados podem ser colhidos e armazenados de inúmeras formas. Para o uso de TensorFlow, podemos usar uma abordagem mais \"low-level API\", para importar dados de maneira mais personalizada/complexa, ou uma abordagem mais \"high-level\" de importar dados em Pandas e *convertê-los em numpy arrays*."
   ]
  },
  {
   "cell_type": "code",
   "execution_count": 46,
   "metadata": {},
   "outputs": [
    {
     "name": "stdout",
     "output_type": "stream",
     "text": [
      "[[7129300520 '20141013T000000' 221900.0]\n",
      " [6414100192 '20141209T000000' 538000.0]\n",
      " [5631500400 '20150225T000000' 180000.0]\n",
      " ...\n",
      " [1523300141 '20140623T000000' 402101.0]\n",
      " [291310100 '20150116T000000' 400000.0]\n",
      " [1523300157 '20141015T000000' 325000.0]]\n"
     ]
    }
   ],
   "source": [
    "# Exemplo de importação de dados \"High-Level API\": \n",
    "\n",
    "import numpy as np\n",
    "import pandas as pd\n",
    "\n",
    "# Importando CSV para pandas e convertendo em numpy: \n",
    "Dataset_Casas = np.array(pd.read_csv('kc_house_data.csv'))\n",
    "\n",
    "# Print\n",
    "print(Dataset_Casas[:,0:3])\n",
    "\n"
   ]
  },
  {
   "cell_type": "code",
   "execution_count": 64,
   "metadata": {},
   "outputs": [
    {
     "name": "stdout",
     "output_type": "stream",
     "text": [
      "      price  waterfront  sqft_living  floors  yr_built\n",
      "0  221900.0           0         1180     1.0      1955\n",
      "1  538000.0           0         2570     2.0      1951\n",
      "2  180000.0           0          770     1.0      1933\n",
      "3  604000.0           0         1960     1.0      1965\n",
      "4  510000.0           0         1680     1.0      1987\n",
      "\n",
      "\n",
      "id                 int64\n",
      "date              object\n",
      "price            float64\n",
      "bedrooms           int64\n",
      "bathrooms        float64\n",
      "sqft_living        int64\n",
      "sqft_lot           int64\n",
      "floors           float64\n",
      "waterfront         int64\n",
      "view               int64\n",
      "condition          int64\n",
      "grade              int64\n",
      "sqft_above         int64\n",
      "sqft_basement      int64\n",
      "yr_built           int64\n",
      "yr_renovated       int64\n",
      "zipcode            int64\n",
      "lat              float64\n",
      "long             float64\n",
      "sqft_living15      int64\n",
      "sqft_lot15         int64\n",
      "dtype: object\n"
     ]
    }
   ],
   "source": [
    "# Modificações nos dtypes das variáveis:\n",
    "\n",
    "# Importando e Visualizando\n",
    "Dataframe_Casas = pd.read_csv('kc_house_data.csv')\n",
    "print(Dataframe_Casas[['price','waterfront','sqft_living','floors','yr_built']].head())\n",
    "print(\"\\n\")\n",
    "\n",
    "\n",
    "# Quais os tipos de Dados\n",
    "print(Dataframe_Casas.dtypes)\n"
   ]
  },
  {
   "cell_type": "code",
   "execution_count": 68,
   "metadata": {},
   "outputs": [
    {
     "name": "stdout",
     "output_type": "stream",
     "text": [
      "      price  waterfront  sqft_living  floors  yr_built\n",
      "0  221900.0       False         1180     1.0      1955\n",
      "1  538000.0       False         2570     2.0      1951\n",
      "2  180000.0       False          770     1.0      1933\n",
      "3  604000.0       False         1960     1.0      1965\n",
      "4  510000.0       False         1680     1.0      1987\n"
     ]
    }
   ],
   "source": [
    "# Alterando o tipo de dado de tloat64 para float32\n",
    "Dataframe_Casas['price'] = np.array(Dataframe_Casas['price'], np.float32)\n",
    "\n",
    "# Convertendo a variável 'Waterfront' de numérica pata Booleana\n",
    "Dataframe_Casas['waterfront'] = np.array(Dataframe_Casas['waterfront'], bool)\n",
    "\n",
    "# Averiguando o Resultado\n",
    "print(Dataframe_Casas[['price','waterfront','sqft_living','floors','yr_built']].head())"
   ]
  },
  {
   "cell_type": "markdown",
   "metadata": {},
   "source": [
    "Uma outra forma de alterar o tipo de dado contido é mediante o uso de **tf.cast()** e dos tipos de dados **tf.bool e tf.float32**. Ambas as abordagens são válidas. \n",
    "\n",
    "***<h3> - Função LOSS/PERDA: </h3>***\n",
    "\n",
    "A função LOSS é fundamental para o treinamento de modelos é uma parte vital da modelagem em machine learning e deep learning. Ela nos diz o quaõn bem nossos modelos se ajustam aos dados, sendo um valor alto indicativo de ***Lack of Fit***. Geralmente, modelos que minimizam as funções de Perda/LOSS são escolhidos. \n",
    "\n",
    "Exemplos de Loss functions são: \n",
    "\n",
    "***1. Mean Squared Error Loss*** (MSE): *tf.keras.losses.mse()*\n",
    "\n",
    "***2. Mean Absolute Error Loss*** (MAE): *tf.keras.losses.mae()*\n",
    "\n",
    "***3. Huber Error Loss*** (Huber): *tf.keras.losses.Huber()*\n",
    "\n",
    "Essas funções de perde são **Fundamentais** para a criação de modelos e averiguação dos resultados. Vamos agora utilizar essas funções para ***\"MANUALMENTE\"*** construir um modelo linear em tensorflow. "
   ]
  },
  {
   "cell_type": "code",
   "execution_count": 134,
   "metadata": {},
   "outputs": [],
   "source": [
    "# Construindo uma função para um modelo linear geral: \n",
    "def linear_reg(intercept, slope, features):\n",
    "    return intercept + features*slope\n",
    "\n",
    "# Construíndo uma Função para calcular a Loss/Perda usando a regressão linear: \n",
    "def loss_function(intercept, slope, targets, features):\n",
    "    predictions = linear_reg(intercept, slope, features)\n",
    "    return tf.keras.losses.mse(targets,predictions)\n",
    "\n",
    "# Definindo as \"variáveis\" que serão os parâmetros ajustados do modelo: \n",
    "intercept = tf.Variable(0.1,np.float32)\n",
    "slope = tf.Variable(0.1, np.float32)"
   ]
  },
  {
   "cell_type": "markdown",
   "metadata": {},
   "source": [
    "Vamos tentar evidenciar uma relação linear entre os preços e tamanho das casas do dataset \"KC_HOUSE\" "
   ]
  },
  {
   "cell_type": "code",
   "execution_count": 125,
   "metadata": {},
   "outputs": [
    {
     "data": {
      "image/png": "[encoded data removed]",
      "text/plain": [
       "<Figure size 864x504 with 1 Axes>"
      ]
     },
     "metadata": {},
     "output_type": "display_data"
    }
   ],
   "source": [
    "# Exploratory Data Analysis\n",
    "\n",
    "# Importando as Bibliotecas\n",
    "import matplotlib.pyplot as plt\n",
    "import seaborn as sns\n",
    "\n",
    "# Atualizando os Parâmetros do PLT\n",
    "plt.rcParams.update({'font.size': 12})\n",
    "plt.rcParams['figure.figsize'] = (12,7)\n",
    "\n",
    "# Plot em si\n",
    "plt.style.use('seaborn-white')\n",
    "sns.set_style({'font.family':'serif', 'font.serif':'Times New Roman'})\n",
    "sns.scatterplot(y = 'price', x = 'sqft_living', data= Dataframe_Casas, linewidth = 0, color = 'red')\n",
    "plt.title('Preço vs. Metragem (ft\\u00b2 habitável)', fontdict={'size':20})\n",
    "plt.ylabel('Preço - 10\\u2076 ($)')\n",
    "plt.xlabel('Metragem (ft\\u00b2 habitável)')\n",
    "plt.grid()\n",
    "\n",
    "# Showing Plot\n",
    "plt.show()\n",
    "\n"
   ]
  },
  {
   "cell_type": "code",
   "execution_count": 135,
   "metadata": {},
   "outputs": [],
   "source": [
    "# Definindo as variáveis (em si): \n",
    "precos = np.array(Dataframe_Casas['price'], np.float32)\n",
    "tamanho = np.array(Dataframe_Casas['sqft_living'], np.float32)\n"
   ]
  },
  {
   "cell_type": "markdown",
   "metadata": {},
   "source": [
    "O próximo passo é utilizar uma operação de otimização: "
   ]
  },
  {
   "cell_type": "code",
   "execution_count": 142,
   "metadata": {},
   "outputs": [
    {
     "name": "stdout",
     "output_type": "stream",
     "text": [
      "tf.Tensor(410059370000.0, shape=(), dtype=float32)\n",
      "6.102005 6.1020646\n"
     ]
    }
   ],
   "source": [
    "# Operação de Otimização: \n",
    "optimin = tf.keras.optimizers.Adam()\n",
    "\n",
    "# Minimizando a função de perda com o optmizador: \n",
    "\n",
    "for i in range(1001):\n",
    "    optimin.minimize(lambda: loss_function(intercept, slope, targets= precos, features= tamanho), \n",
    "    var_list = [intercept, slope])\n",
    "\n",
    "    if i == 1000:\n",
    "        print(loss_function(intercept, slope, targets = precos, features= tamanho))\n",
    "\n",
    "print(intercept.numpy(), slope.numpy())\n"
   ]
  },
  {
   "cell_type": "code",
   "execution_count": 175,
   "metadata": {},
   "outputs": [
    {
     "name": "stdout",
     "output_type": "stream",
     "text": [
      "tf.Tensor(0.13665985, shape=(), dtype=float32)\n"
     ]
    }
   ],
   "source": [
    "# Definindo uma única Função para Tudo: \n",
    "# (Que nem um ser humano normal)\n",
    "\n",
    "# Nota: Os melhores resultados dessa regressão são obtidos quando linearizados\n",
    "# ambas as variáveis por np.log10():\n",
    "\n",
    "def Regressao_Linear_Otimizada(target,features):\n",
    "\n",
    "    optimin = tf.keras.optimizers.Adam(.5)         # Aplicando uma taxa de aprendizado de 50%\n",
    "\n",
    "    intercept = tf.Variable(0.1,np.float32)\n",
    "    slope = tf.Variable(0.1, np.float32)\n",
    "\n",
    "    for i in range(10001):\n",
    "        optimin.minimize(lambda: tf.keras.losses.mse(target,intercept + features*slope), \n",
    "        var_list = [intercept, slope])\n",
    "\n",
    "        if i == 10000:\n",
    "            print(tf.keras.losses.mae(target,intercept + slope*features))\n",
    "\n",
    "# Definindo as variáveis (em si): \n",
    "precos = np.log10(np.array(Dataframe_Casas['price'], np.float32))\n",
    "tamanho = np.log10(np.array(Dataframe_Casas['sqft_living'], np.float32))\n",
    "\n",
    "Regressao_Linear_Otimizada(precos,tamanho)\n"
   ]
  },
  {
   "cell_type": "markdown",
   "metadata": {},
   "source": [
    "***<h3> - Batch Training: </h3>***\n",
    "\n",
    "Batch Training, ou treinamento por batelada"
   ]
  }
 ],
 "metadata": {
  "interpreter": {
   "hash": "496f5b557dd4bd232f7228059417d880e4a8b85b7283b18684fd42d67b2202fa"
  },
  "kernelspec": {
   "display_name": "Python 3.10.3 ('Deep_env': venv)",
   "language": "python",
   "name": "python3"
  },
  "language_info": {
   "codemirror_mode": {
    "name": "ipython",
    "version": 3
   },
   "file_extension": ".py",
   "mimetype": "text/x-python",
   "name": "python",
   "nbconvert_exporter": "python",
   "pygments_lexer": "ipython3",
   "version": "3.10.3"
  },
  "orig_nbformat": 4
 },
 "nbformat": 4,
 "nbformat_minor": 2
}
